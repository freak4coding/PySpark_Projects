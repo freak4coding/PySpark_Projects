{
 "cells": [
  {
   "cell_type": "code",
   "execution_count": 0,
   "metadata": {
    "application/vnd.databricks.v1+cell": {
     "cellMetadata": {
      "byteLimit": 2048000,
      "rowLimit": 10000
     },
     "inputWidgets": {},
     "nuid": "",
     "showTitle": true,
     "title": "Import all the libraries"
    }
   },
   "outputs": [],
   "source": [
    "import pyspark\n",
    "from pyspark.sql import SparkSession\n",
    "from pyspark.sql.types import StructType, StructField, StringType, IntegerType\n",
    "from pyspark.sql.functions import *"
   ]
  },
  {
   "cell_type": "code",
   "execution_count": 0,
   "metadata": {
    "application/vnd.databricks.v1+cell": {
     "cellMetadata": {
      "byteLimit": 2048000,
      "rowLimit": 10000
     },
     "inputWidgets": {},
     "nuid": "",
     "showTitle": true,
     "title": "Define and declare the app_id and tenant_id"
    }
   },
   "outputs": [
    {
     "output_type": "display_data",
     "data": {
      "text/html": [
       "<style scoped>\n",
       "  .ansiout {\n",
       "    display: block;\n",
       "    unicode-bidi: embed;\n",
       "    white-space: pre-wrap;\n",
       "    word-wrap: break-word;\n",
       "    word-break: break-all;\n",
       "    font-family: \"Menlo\", \"Monaco\", \"Consolas\", \"Ubuntu Mono\", \"Source Code Pro\", monospace;\n",
       "    font-size: 13px;\n",
       "    color: #555;\n",
       "    margin-left: 4px;\n",
       "    line-height: 19px;\n",
       "  }\n",
       "</style>\n",
       "<div class=\"ansiout\">appId: String = [REDACTED]\n",
       "tenantId: String = [REDACTED]\n",
       "</div>"
      ]
     },
     "metadata": {
      "application/vnd.databricks.v1+output": {
       "addedWidgets": {},
       "arguments": {},
       "data": "<div class=\"ansiout\">appId: String = [REDACTED]\ntenantId: String = [REDACTED]\n</div>",
       "datasetInfos": [],
       "metadata": {
        "isDbfsCommandResult": false
       },
       "removedWidgets": [],
       "type": "html"
      }
     },
     "output_type": "display_data"
    }
   ],
   "source": [
    "%scala\n",
    "val appId = dbutils.secrets.get(scope = \"\", key = \"clientid\")\n",
    "val tenantId = dbutils.secrets.get(scope = \"\", key = \"tenantid\")"
   ]
  },
  {
   "cell_type": "code",
   "execution_count": 0,
   "metadata": {
    "application/vnd.databricks.v1+cell": {
     "cellMetadata": {
      "byteLimit": 2048000,
      "rowLimit": 10000
     },
     "inputWidgets": {},
     "nuid": "",
     "showTitle": true,
     "title": "Set the FIC configuration"
    }
   },
   "outputs": [
    {
     "output_type": "display_data",
     "data": {
      "text/html": [
       "<style scoped>\n",
       "  .ansiout {\n",
       "    display: block;\n",
       "    unicode-bidi: embed;\n",
       "    white-space: pre-wrap;\n",
       "    word-wrap: break-word;\n",
       "    word-break: break-all;\n",
       "    font-family: \"Menlo\", \"Monaco\", \"Consolas\", \"Ubuntu Mono\", \"Source Code Pro\", monospace;\n",
       "    font-size: 13px;\n",
       "    color: #555;\n",
       "    margin-left: 4px;\n",
       "    line-height: 19px;\n",
       "  }\n",
       "</style>\n",
       "<div class=\"ansiout\"></div>"
      ]
     },
     "metadata": {
      "application/vnd.databricks.v1+output": {
       "addedWidgets": {},
       "arguments": {},
       "data": "<div class=\"ansiout\"></div>",
       "datasetInfos": [],
       "metadata": {
        "isDbfsCommandResult": false
       },
       "removedWidgets": [],
       "type": "html"
      }
     },
     "output_type": "display_data"
    }
   ],
   "source": [
    "%scala\n",
    "spark.conf.set(s\"spark.abfs.custom.oauth2.client.id\", appId)\n",
    "spark.conf.set(s\"spark.abfs.custom.oauth2.tenant.id\",  tenantId)\n",
    "spark.conf.set(s\"fs.azure.account.auth.type\", \"Custom\")\n",
    "spark.conf.set(s\"fs.azure.account.oauth.provider.type\",\"\")"
   ]
  },
  {
   "cell_type": "code",
   "execution_count": 0,
   "metadata": {
    "application/vnd.databricks.v1+cell": {
     "cellMetadata": {
      "byteLimit": 2048000,
      "rowLimit": 10000
     },
     "inputWidgets": {},
     "nuid": "",
     "showTitle": true,
     "title": "Read the CSV file and store it as a data frame"
    }
   },
   "outputs": [],
   "source": [
    "df_GoogleData = spark.read.format(\"csv\").option(\"header\",\"true\").option(\"inferSchema\", \"true\").load(\"Path/_a_AmitKumar/googleplaystore.csv\")"
   ]
  },
  {
   "cell_type": "code",
   "execution_count": 0,
   "metadata": {
    "application/vnd.databricks.v1+cell": {
     "cellMetadata": {
      "byteLimit": 2048000,
      "rowLimit": 10000
     },
     "inputWidgets": {},
     "nuid": "",
     "showTitle": true,
     "title": "Check Schema of the data frame"
    }
   },
   "outputs": [
    {
     "output_type": "stream",
     "name": "stdout",
     "output_type": "stream",
     "text": [
      "root\n |-- App: string (nullable = true)\n |-- Category: string (nullable = true)\n |-- Rating: string (nullable = true)\n |-- Reviews: string (nullable = true)\n |-- Installs: string (nullable = true)\n |-- Type: string (nullable = true)\n |-- Price: string (nullable = true)\n |-- Genres: string (nullable = true)\n\n"
     ]
    }
   ],
   "source": [
    "df_GoogleData.printSchema()"
   ]
  },
  {
   "cell_type": "code",
   "execution_count": 0,
   "metadata": {
    "application/vnd.databricks.v1+cell": {
     "cellMetadata": {
      "byteLimit": 2048000,
      "rowLimit": 10000
     },
     "inputWidgets": {},
     "nuid": "",
     "showTitle": true,
     "title": "Drop Un-necessary Columns"
    }
   },
   "outputs": [],
   "source": [
    "df_GoogleData = df_GoogleData.drop(\"Size\",\"Content Rating\",\"Last Updated\", \"Android Ver\",\"Current Ver\")"
   ]
  },
  {
   "cell_type": "code",
   "execution_count": 0,
   "metadata": {
    "application/vnd.databricks.v1+cell": {
     "cellMetadata": {
      "byteLimit": 2048000,
      "rowLimit": 10000
     },
     "inputWidgets": {},
     "nuid": "3abd2cfa-386f-4602-9c8b-1a8cb746b6ea",
     "showTitle": true,
     "title": "Clean the data"
    }
   },
   "outputs": [],
   "source": [
    "df_GoogleData = df_GoogleData.withColumn(\"Reviews\",col(\"Reviews\").cast(\"int\"))\\\n",
    "  .withColumn(\"Installs\",regexp_replace(col(\"Installs\"), \"[^0-9]\", \"\"))\\\n",
    "  .withColumn(\"Installs\",col(\"Installs\").cast(\"int\"))\\\n",
    "  .withColumn(\"Price\",regexp_replace(col(\"Price\"), \"[$]\", \"\"))\\\n",
    "  .withColumn(\"Price\",col(\"Price\").cast(\"float\"))"
   ]
  },
  {
   "cell_type": "code",
   "execution_count": 0,
   "metadata": {
    "application/vnd.databricks.v1+cell": {
     "cellMetadata": {
      "byteLimit": 2048000,
      "rowLimit": 10000
     },
     "inputWidgets": {},
     "nuid": "",
     "showTitle": false,
     "title": ""
    }
   },
   "outputs": [],
   "source": [
    "df_GoogleData.createOrReplaceTempView(\"GoogleData\")"
   ]
  },
  {
   "cell_type": "code",
   "execution_count": 0,
   "metadata": {
    "application/vnd.databricks.v1+cell": {
     "cellMetadata": {
      "byteLimit": 2048000,
      "implicitDf": true,
      "rowLimit": 10000
     },
     "inputWidgets": {},
     "nuid": "",
     "showTitle": true,
     "title": "Top 10 Reviewed Apps"
    }
   },
   "outputs": [
    {
     "output_type": "display_data",
     "data": {
      "text/html": [
       "<style scoped>\n",
       "  .table-result-container {\n",
       "    max-height: 300px;\n",
       "    overflow: auto;\n",
       "  }\n",
       "  table, th, td {\n",
       "    border: 1px solid black;\n",
       "    border-collapse: collapse;\n",
       "  }\n",
       "  th, td {\n",
       "    padding: 5px;\n",
       "  }\n",
       "  th {\n",
       "    text-align: left;\n",
       "  }\n",
       "</style><div class='table-result-container'><table class='table-result'><thead style='background-color: white'><tr><th>App</th><th>TotalReviews</th></tr></thead><tbody><tr><td>Instagram</td><td>266241989</td></tr><tr><td>WhatsApp Messenger</td><td>207348304</td></tr><tr><td>Clash of Clans</td><td>179558781</td></tr><tr><td>Messenger – Text and Video Chat for Free</td><td>169932272</td></tr><tr><td>Subway Surfers</td><td>166331958</td></tr><tr><td>Candy Crush Saga</td><td>156993136</td></tr><tr><td>Facebook</td><td>156286514</td></tr><tr><td>8 Ball Pool</td><td>99386198</td></tr><tr><td>Clash Royale</td><td>92530298</td></tr><tr><td>Snapchat</td><td>68045010</td></tr></tbody></table></div>"
      ]
     },
     "metadata": {
      "application/vnd.databricks.v1+output": {
       "addedWidgets": {},
       "aggData": [],
       "aggError": "",
       "aggOverflow": false,
       "aggSchema": [],
       "aggSeriesLimitReached": false,
       "aggType": "",
       "arguments": {},
       "columnCustomDisplayInfos": {},
       "data": [
        [
         "Instagram",
         266241989
        ],
        [
         "WhatsApp Messenger",
         207348304
        ],
        [
         "Clash of Clans",
         179558781
        ],
        [
         "Messenger – Text and Video Chat for Free",
         169932272
        ],
        [
         "Subway Surfers",
         166331958
        ],
        [
         "Candy Crush Saga",
         156993136
        ],
        [
         "Facebook",
         156286514
        ],
        [
         "8 Ball Pool",
         99386198
        ],
        [
         "Clash Royale",
         92530298
        ],
        [
         "Snapchat",
         68045010
        ]
       ],
       "datasetInfos": [],
       "dbfsResultPath": null,
       "isJsonSchema": true,
       "metadata": {
        "dataframeName": "_sqldf",
        "executionCount": 55
       },
       "overflow": false,
       "plotOptions": {
        "customPlotOptions": {},
        "displayType": "table",
        "pivotAggregation": null,
        "pivotColumns": null,
        "xColumns": null,
        "yColumns": null
       },
       "removedWidgets": [],
       "schema": [
        {
         "metadata": "{}",
         "name": "App",
         "type": "\"string\""
        },
        {
         "metadata": "{}",
         "name": "TotalReviews",
         "type": "\"long\""
        }
       ],
       "type": "table"
      }
     },
     "output_type": "display_data"
    },
    {
     "output_type": "display_data",
     "data": {
      "text/plain": [
       "Databricks visualization. Run in Databricks to view."
      ]
     },
     "metadata": {
      "application/vnd.databricks.v1.subcommand+json": {
       "baseErrorDetails": null,
       "bindings": {},
       "collapsed": false,
       "command": "%sql WITH q AS (SELECT\n  App,\n  SUM(Reviews) AS TotalReviews\nFROM\n  GoogleData\nGROUP BY 1\nORDER BY 2 DESC\nLIMIT 10) SELECT `App`,SUM(`TotalReviews`) `column_3f7fe7a56`,`App` FROM q GROUP BY `App`",
       "commandTitle": "Top 10 Reviewed Apps",
       "commandType": "auto",
       "commandVersion": 0,
       "commentThread": [],
       "commentsVisible": false,
       "contentSha256Hex": null,
       "customPlotOptions": {
        "redashChart": [
         {
          "key": "type",
          "value": "CHART"
         },
         {
          "key": "options",
          "value": {
           "alignYAxesAtZero": true,
           "coefficient": 1,
           "columnConfigurationMap": {
            "series": {
             "column": "App",
             "id": "column_3f7fe7a58"
            },
            "x": {
             "column": "App",
             "id": "column_3f7fe7a51"
            },
            "y": [
             {
              "column": "TotalReviews",
              "id": "column_3f7fe7a56",
              "transform": "SUM"
             }
            ]
           },
           "dateTimeFormat": "DD/MM/YYYY HH:mm",
           "direction": {
            "type": "counterclockwise"
           },
           "error_y": {
            "type": "data",
            "visible": true
           },
           "globalSeriesType": "column",
           "isAggregationOn": true,
           "legend": {
            "enabled": false,
            "traceorder": "normal"
           },
           "missingValuesAsZero": true,
           "numberFormat": "0,0.[00000]",
           "percentFormat": "0[.]00%",
           "series": {
            "error_y": {
             "type": "data",
             "visible": true
            },
            "stacking": null
           },
           "seriesOptions": {
            "column_3f7fe7a52": {
             "name": "TotalReviews",
             "yAxis": 0
            },
            "column_3f7fe7a56": {
             "type": "column",
             "yAxis": 0
            }
           },
           "showDataLabels": false,
           "sizemode": "diameter",
           "sortX": true,
           "sortY": true,
           "swappedAxes": true,
           "textFormat": "",
           "useAggregationsUi": true,
           "valuesOptions": {},
           "version": 2,
           "xAxis": {
            "labels": {
             "enabled": true
            },
            "type": "-"
           },
           "yAxis": [
            {
             "title": {
              "text": "Reviews"
             },
             "type": "-"
            },
            {
             "opposite": true,
             "type": "-"
            }
           ]
          }
         }
        ]
       },
       "datasetPreviewNameToCmdIdMap": {},
       "diffDeletes": [],
       "diffInserts": [],
       "displayType": "redashChart",
       "error": null,
       "errorDetails": null,
       "errorSummary": null,
       "errorTraceType": null,
       "finishTime": 0,
       "globalVars": {},
       "guid": "",
       "height": "auto",
       "hideCommandCode": false,
       "hideCommandResult": false,
       "iPythonMetadata": null,
       "inputWidgets": {},
       "isLockedInExamMode": false,
       "latestUser": "a user",
       "latestUserId": null,
       "listResultMetadata": null,
       "metadata": {},
       "nuid": "ca33f569-15eb-481f-b1d1-05171c1aaf5d",
       "origId": 0,
       "parentHierarchy": [],
       "pivotAggregation": null,
       "pivotColumns": null,
       "position": 7.0,
       "resultDbfsErrorMessage": null,
       "resultDbfsStatus": "INLINED_IN_TREE",
       "results": null,
       "showCommandTitle": false,
       "startTime": 0,
       "state": "input",
       "streamStates": {},
       "subcommandOptions": {
        "queryPlan": {
         "groups": [
          {
           "column": "App",
           "type": "column"
          },
          {
           "column": "App",
           "type": "column"
          }
         ],
         "selects": [
          {
           "column": "App",
           "type": "column"
          },
          {
           "alias": "column_3f7fe7a56",
           "args": [
            {
             "column": "TotalReviews",
             "type": "column"
            }
           ],
           "function": "SUM",
           "type": "function"
          },
          {
           "column": "App",
           "type": "column"
          }
         ]
        }
       },
       "submitTime": 0,
       "subtype": "tableResultSubCmd.visualization",
       "tableResultIndex": 0,
       "tableResultSettingsMap": null,
       "useConsistentColors": false,
       "version": "CommandV1",
       "width": "auto",
       "workflows": [],
       "xColumns": null,
       "yColumns": null
      }
     },
     "output_type": "display_data"
    }
   ],
   "source": [
    "%sql\n",
    "SELECT\n",
    "  App,\n",
    "  SUM(Reviews) AS TotalReviews\n",
    "FROM\n",
    "  GoogleData\n",
    "GROUP BY 1\n",
    "ORDER BY 2 DESC\n",
    "LIMIT 10"
   ]
  },
  {
   "cell_type": "code",
   "execution_count": 0,
   "metadata": {
    "application/vnd.databricks.v1+cell": {
     "cellMetadata": {
      "byteLimit": 2048000,
      "implicitDf": true,
      "rowLimit": 10000
     },
     "inputWidgets": {},
     "nuid": "31bd2525-427a-4287-898d-41747c7682f8",
     "showTitle": true,
     "title": "Top 10 installed Apps"
    }
   },
   "outputs": [
    {
     "output_type": "display_data",
     "data": {
      "text/html": [
       "<style scoped>\n",
       "  .table-result-container {\n",
       "    max-height: 300px;\n",
       "    overflow: auto;\n",
       "  }\n",
       "  table, th, td {\n",
       "    border: 1px solid black;\n",
       "    border-collapse: collapse;\n",
       "  }\n",
       "  th, td {\n",
       "    padding: 5px;\n",
       "  }\n",
       "  th {\n",
       "    text-align: left;\n",
       "  }\n",
       "</style><div class='table-result-container'><table class='table-result'><thead style='background-color: white'><tr><th>App</th><th>TotalInstalls</th></tr></thead><tbody><tr><td>Subway Surfers</td><td>6000000000</td></tr><tr><td>Hangouts</td><td>4000000000</td></tr><tr><td>Google Photos</td><td>4000000000</td></tr><tr><td>Google News</td><td>4000000000</td></tr><tr><td>Google Drive</td><td>4000000000</td></tr><tr><td>Instagram</td><td>4000000000</td></tr><tr><td>Candy Crush Saga</td><td>3500000000</td></tr><tr><td>WhatsApp Messenger</td><td>3000000000</td></tr><tr><td>Messenger – Text and Video Chat for Free</td><td>3000000000</td></tr><tr><td>Google Chrome: Fast & Secure</td><td>3000000000</td></tr></tbody></table></div>"
      ]
     },
     "metadata": {
      "application/vnd.databricks.v1+output": {
       "addedWidgets": {},
       "aggData": [],
       "aggError": "",
       "aggOverflow": false,
       "aggSchema": [],
       "aggSeriesLimitReached": false,
       "aggType": "",
       "arguments": {},
       "columnCustomDisplayInfos": {},
       "data": [
        [
         "Subway Surfers",
         6000000000
        ],
        [
         "Hangouts",
         4000000000
        ],
        [
         "Google Photos",
         4000000000
        ],
        [
         "Google News",
         4000000000
        ],
        [
         "Google Drive",
         4000000000
        ],
        [
         "Instagram",
         4000000000
        ],
        [
         "Candy Crush Saga",
         3500000000
        ],
        [
         "WhatsApp Messenger",
         3000000000
        ],
        [
         "Messenger – Text and Video Chat for Free",
         3000000000
        ],
        [
         "Google Chrome: Fast & Secure",
         3000000000
        ]
       ],
       "datasetInfos": [],
       "dbfsResultPath": null,
       "isJsonSchema": true,
       "metadata": {
        "dataframeName": "_sqldf",
        "executionCount": 56
       },
       "overflow": false,
       "plotOptions": {
        "customPlotOptions": {},
        "displayType": "table",
        "pivotAggregation": null,
        "pivotColumns": null,
        "xColumns": null,
        "yColumns": null
       },
       "removedWidgets": [],
       "schema": [
        {
         "metadata": "{}",
         "name": "App",
         "type": "\"string\""
        },
        {
         "metadata": "{}",
         "name": "TotalInstalls",
         "type": "\"long\""
        }
       ],
       "type": "table"
      }
     },
     "output_type": "display_data"
    },
    {
     "output_type": "display_data",
     "data": {
      "text/plain": [
       "Databricks visualization. Run in Databricks to view."
      ]
     },
     "metadata": {
      "application/vnd.databricks.v1.subcommand+json": {
       "baseErrorDetails": null,
       "bindings": {},
       "collapsed": false,
       "command": "%sql WITH q AS (SELECT\n  App,\n  SUM(Installs) AS TotalInstalls\nFROM\n  GoogleData\nGROUP BY 1\nORDER BY 2 DESC\nLIMIT 10) SELECT `App`,SUM(`TotalInstalls`) `column_3f7fe7a510`,`App` FROM q GROUP BY `App`",
       "commandTitle": "Top 10 Installed Apps",
       "commandType": "auto",
       "commandVersion": 0,
       "commentThread": [],
       "commentsVisible": false,
       "contentSha256Hex": null,
       "customPlotOptions": {
        "redashChart": [
         {
          "key": "type",
          "value": "CHART"
         },
         {
          "key": "options",
          "value": {
           "alignYAxesAtZero": true,
           "coefficient": 1,
           "columnConfigurationMap": {
            "series": {
             "column": "App",
             "id": "column_3f7fe7a512"
            },
            "x": {
             "column": "App",
             "id": "column_3f7fe7a515"
            },
            "y": [
             {
              "column": "TotalInstalls",
              "id": "column_3f7fe7a510",
              "transform": "SUM"
             }
            ]
           },
           "dateTimeFormat": "DD/MM/YYYY HH:mm",
           "direction": {
            "type": "counterclockwise"
           },
           "error_y": {
            "type": "data",
            "visible": true
           },
           "globalSeriesType": "column",
           "hideXAxis": false,
           "isAggregationOn": true,
           "legend": {
            "enabled": false,
            "traceorder": "normal"
           },
           "missingValuesAsZero": true,
           "numberFormat": "0,0.[00000]",
           "percentFormat": "0[.]00%",
           "series": {
            "error_y": {
             "type": "data",
             "visible": true
            },
            "stacking": null
           },
           "seriesOptions": {
            "column_3f7fe7a510": {
             "name": "TotalInstalls",
             "type": "column",
             "yAxis": 0
            }
           },
           "showDataLabels": false,
           "sizemode": "diameter",
           "sortX": true,
           "sortY": true,
           "swappedAxes": true,
           "textFormat": "",
           "useAggregationsUi": true,
           "valuesOptions": {},
           "version": 2,
           "xAxis": {
            "labels": {
             "enabled": true
            },
            "type": "-"
           },
           "yAxis": [
            {
             "title": {
              "text": "Total Installs"
             },
             "type": "-"
            },
            {
             "opposite": true,
             "type": "-"
            }
           ]
          }
         }
        ]
       },
       "datasetPreviewNameToCmdIdMap": {},
       "diffDeletes": [],
       "diffInserts": [],
       "displayType": "redashChart",
       "error": null,
       "errorDetails": null,
       "errorSummary": null,
       "errorTraceType": null,
       "finishTime": 0,
       "globalVars": {},
       "guid": "",
       "height": "auto",
       "hideCommandCode": false,
       "hideCommandResult": false,
       "iPythonMetadata": null,
       "inputWidgets": {},
       "isLockedInExamMode": false,
       "latestUser": "a user",
       "latestUserId": null,
       "listResultMetadata": null,
       "metadata": {},
       "nuid": "022d14b4-0188-4d8a-b40c-9459627f9a67",
       "origId": 0,
       "parentHierarchy": [],
       "pivotAggregation": null,
       "pivotColumns": null,
       "position": 8.0,
       "resultDbfsErrorMessage": null,
       "resultDbfsStatus": "INLINED_IN_TREE",
       "results": null,
       "showCommandTitle": false,
       "startTime": 0,
       "state": "input",
       "streamStates": {},
       "subcommandOptions": {
        "queryPlan": {
         "groups": [
          {
           "column": "App",
           "type": "column"
          },
          {
           "column": "App",
           "type": "column"
          }
         ],
         "selects": [
          {
           "column": "App",
           "type": "column"
          },
          {
           "alias": "column_3f7fe7a510",
           "args": [
            {
             "column": "TotalInstalls",
             "type": "column"
            }
           ],
           "function": "SUM",
           "type": "function"
          },
          {
           "column": "App",
           "type": "column"
          }
         ]
        }
       },
       "submitTime": 0,
       "subtype": "tableResultSubCmd.visualization",
       "tableResultIndex": 0,
       "tableResultSettingsMap": null,
       "useConsistentColors": false,
       "version": "CommandV1",
       "width": "auto",
       "workflows": [],
       "xColumns": null,
       "yColumns": null
      }
     },
     "output_type": "display_data"
    }
   ],
   "source": [
    "%sql\n",
    "SELECT\n",
    "  App,\n",
    "  SUM(Installs) AS TotalInstalls\n",
    "FROM\n",
    "  GoogleData\n",
    "GROUP BY 1\n",
    "ORDER BY 2 DESC\n",
    "LIMIT 10"
   ]
  },
  {
   "cell_type": "code",
   "execution_count": 0,
   "metadata": {
    "application/vnd.databricks.v1+cell": {
     "cellMetadata": {
      "byteLimit": 2048000,
      "implicitDf": true,
      "rowLimit": 10000
     },
     "inputWidgets": {},
     "nuid": "87627390-6131-4fce-aafb-5b50da5fb0a4",
     "showTitle": true,
     "title": "Category wise distribution"
    }
   },
   "outputs": [
    {
     "output_type": "display_data",
     "data": {
      "text/html": [
       "<style scoped>\n",
       "  .table-result-container {\n",
       "    max-height: 300px;\n",
       "    overflow: auto;\n",
       "  }\n",
       "  table, th, td {\n",
       "    border: 1px solid black;\n",
       "    border-collapse: collapse;\n",
       "  }\n",
       "  th, td {\n",
       "    padding: 5px;\n",
       "  }\n",
       "  th {\n",
       "    text-align: left;\n",
       "  }\n",
       "</style><div class='table-result-container'><table class='table-result'><thead style='background-color: white'><tr><th>Category</th><th>TotalInstalls</th></tr></thead><tbody><tr><td>GAME</td><td>35086024415</td></tr><tr><td>COMMUNICATION</td><td>32647276251</td></tr><tr><td>PRODUCTIVITY</td><td>14176091369</td></tr><tr><td>SOCIAL</td><td>14069867902</td></tr><tr><td>TOOLS</td><td>11452771915</td></tr><tr><td>FAMILY</td><td>10258263505</td></tr><tr><td>PHOTOGRAPHY</td><td>10088247655</td></tr><tr><td>NEWS_AND_MAGAZINES</td><td>7496317760</td></tr><tr><td>TRAVEL_AND_LOCAL</td><td>6868887146</td></tr><tr><td>VIDEO_PLAYERS</td><td>6222002720</td></tr><tr><td>SHOPPING</td><td>3247848785</td></tr><tr><td>ENTERTAINMENT</td><td>2869160000</td></tr><tr><td>PERSONALIZATION</td><td>2325494782</td></tr><tr><td>BOOKS_AND_REFERENCE</td><td>1921469576</td></tr><tr><td>SPORTS</td><td>1751174498</td></tr><tr><td>HEALTH_AND_FITNESS</td><td>1582072512</td></tr><tr><td>BUSINESS</td><td>1001914865</td></tr><tr><td>FINANCE</td><td>876648734</td></tr><tr><td>EDUCATION</td><td>871452000</td></tr><tr><td>MAPS_AND_NAVIGATION</td><td>719281890</td></tr><tr><td>LIFESTYLE</td><td>537643539</td></tr><tr><td>WEATHER</td><td>426100520</td></tr><tr><td>FOOD_AND_DRINK</td><td>273898751</td></tr><tr><td>DATING</td><td>264310807</td></tr><tr><td>HOUSE_AND_HOME</td><td>168712461</td></tr><tr><td>ART_AND_DESIGN</td><td>124338100</td></tr><tr><td>LIBRARIES_AND_DEMO</td><td>62995910</td></tr><tr><td>COMICS</td><td>56086150</td></tr><tr><td>MEDICAL</td><td>53257437</td></tr><tr><td>AUTO_AND_VEHICLES</td><td>53130211</td></tr><tr><td>PARENTING</td><td>31521110</td></tr><tr><td>BEAUTY</td><td>27197050</td></tr><tr><td>EVENTS</td><td>15973161</td></tr><tr><td> traffic jams</td><td>44</td></tr><tr><td>Face</td><td>42</td></tr></tbody></table></div>"
      ]
     },
     "metadata": {
      "application/vnd.databricks.v1+output": {
       "addedWidgets": {},
       "aggData": [],
       "aggError": "",
       "aggOverflow": false,
       "aggSchema": [],
       "aggSeriesLimitReached": false,
       "aggType": "",
       "arguments": {},
       "columnCustomDisplayInfos": {},
       "data": [
        [
         "GAME",
         35086024415
        ],
        [
         "COMMUNICATION",
         32647276251
        ],
        [
         "PRODUCTIVITY",
         14176091369
        ],
        [
         "SOCIAL",
         14069867902
        ],
        [
         "TOOLS",
         11452771915
        ],
        [
         "FAMILY",
         10258263505
        ],
        [
         "PHOTOGRAPHY",
         10088247655
        ],
        [
         "NEWS_AND_MAGAZINES",
         7496317760
        ],
        [
         "TRAVEL_AND_LOCAL",
         6868887146
        ],
        [
         "VIDEO_PLAYERS",
         6222002720
        ],
        [
         "SHOPPING",
         3247848785
        ],
        [
         "ENTERTAINMENT",
         2869160000
        ],
        [
         "PERSONALIZATION",
         2325494782
        ],
        [
         "BOOKS_AND_REFERENCE",
         1921469576
        ],
        [
         "SPORTS",
         1751174498
        ],
        [
         "HEALTH_AND_FITNESS",
         1582072512
        ],
        [
         "BUSINESS",
         1001914865
        ],
        [
         "FINANCE",
         876648734
        ],
        [
         "EDUCATION",
         871452000
        ],
        [
         "MAPS_AND_NAVIGATION",
         719281890
        ],
        [
         "LIFESTYLE",
         537643539
        ],
        [
         "WEATHER",
         426100520
        ],
        [
         "FOOD_AND_DRINK",
         273898751
        ],
        [
         "DATING",
         264310807
        ],
        [
         "HOUSE_AND_HOME",
         168712461
        ],
        [
         "ART_AND_DESIGN",
         124338100
        ],
        [
         "LIBRARIES_AND_DEMO",
         62995910
        ],
        [
         "COMICS",
         56086150
        ],
        [
         "MEDICAL",
         53257437
        ],
        [
         "AUTO_AND_VEHICLES",
         53130211
        ],
        [
         "PARENTING",
         31521110
        ],
        [
         "BEAUTY",
         27197050
        ],
        [
         "EVENTS",
         15973161
        ],
        [
         " traffic jams",
         44
        ],
        [
         "Face",
         42
        ]
       ],
       "datasetInfos": [],
       "dbfsResultPath": null,
       "isJsonSchema": true,
       "metadata": {
        "dataframeName": "_sqldf",
        "executionCount": 60
       },
       "overflow": false,
       "plotOptions": {
        "customPlotOptions": {},
        "displayType": "table",
        "pivotAggregation": null,
        "pivotColumns": null,
        "xColumns": null,
        "yColumns": null
       },
       "removedWidgets": [],
       "schema": [
        {
         "metadata": "{}",
         "name": "Category",
         "type": "\"string\""
        },
        {
         "metadata": "{}",
         "name": "TotalInstalls",
         "type": "\"long\""
        }
       ],
       "type": "table"
      }
     },
     "output_type": "display_data"
    },
    {
     "output_type": "display_data",
     "data": {
      "text/plain": [
       "Databricks visualization. Run in Databricks to view."
      ]
     },
     "metadata": {
      "application/vnd.databricks.v1.subcommand+json": {
       "baseErrorDetails": null,
       "bindings": {},
       "collapsed": false,
       "command": "%sql WITH q AS (SELECT\n  Category,\n  SUM(Installs) AS TotalInstalls\nFROM\n  GoogleData\nWHERE Category NOT IN (\"1.9\")\nGROUP BY 1\nORDER BY 2 DESC) SELECT `Category`,SUM(`TotalInstalls`) `column_3f7fe7a519`,`Category` FROM q GROUP BY `Category`",
       "commandTitle": "Category wise Installs",
       "commandType": "auto",
       "commandVersion": 0,
       "commentThread": [],
       "commentsVisible": false,
       "contentSha256Hex": null,
       "customPlotOptions": {
        "redashChart": [
         {
          "key": "type",
          "value": "CHART"
         },
         {
          "key": "options",
          "value": {
           "alignYAxesAtZero": true,
           "coefficient": 1,
           "columnConfigurationMap": {
            "series": {
             "column": "Category",
             "id": "column_3f7fe7a521"
            },
            "x": {
             "column": "Category",
             "id": "column_3f7fe7a518"
            },
            "y": [
             {
              "column": "TotalInstalls",
              "id": "column_3f7fe7a519",
              "transform": "SUM"
             }
            ]
           },
           "dateTimeFormat": "DD/MM/YYYY HH:mm",
           "direction": {
            "type": "counterclockwise"
           },
           "error_y": {
            "type": "data",
            "visible": true
           },
           "globalSeriesType": "column",
           "isAggregationOn": true,
           "legend": {
            "enabled": false,
            "traceorder": "normal"
           },
           "missingValuesAsZero": true,
           "numberFormat": "0,0.[00000]",
           "percentFormat": "0[.]00%",
           "series": {
            "error_y": {
             "type": "data",
             "visible": true
            },
            "stacking": null
           },
           "seriesOptions": {
            "column_3f7fe7a519": {
             "name": "TotalInstalls",
             "yAxis": 0
            }
           },
           "showDataLabels": false,
           "sizemode": "diameter",
           "sortX": true,
           "sortY": true,
           "swappedAxes": false,
           "textFormat": "",
           "useAggregationsUi": true,
           "valuesOptions": {},
           "version": 2,
           "xAxis": {
            "labels": {
             "enabled": true
            },
            "type": "-"
           },
           "yAxis": [
            {
             "title": {
              "text": "Installs"
             },
             "type": "-"
            },
            {
             "opposite": true,
             "type": "-"
            }
           ]
          }
         }
        ]
       },
       "datasetPreviewNameToCmdIdMap": {},
       "diffDeletes": [],
       "diffInserts": [],
       "displayType": "redashChart",
       "error": null,
       "errorDetails": null,
       "errorSummary": null,
       "errorTraceType": null,
       "finishTime": 0,
       "globalVars": {},
       "guid": "",
       "height": "auto",
       "hideCommandCode": false,
       "hideCommandResult": false,
       "iPythonMetadata": null,
       "inputWidgets": {},
       "isLockedInExamMode": false,
       "latestUser": "a user",
       "latestUserId": null,
       "listResultMetadata": null,
       "metadata": {},
       "nuid": "cacce125-1449-4e08-9dbb-13376d51f167",
       "origId": 0,
       "parentHierarchy": [],
       "pivotAggregation": null,
       "pivotColumns": null,
       "position": 9.0,
       "resultDbfsErrorMessage": null,
       "resultDbfsStatus": "INLINED_IN_TREE",
       "results": null,
       "showCommandTitle": false,
       "startTime": 0,
       "state": "input",
       "streamStates": {},
       "subcommandOptions": {
        "queryPlan": {
         "groups": [
          {
           "column": "Category",
           "type": "column"
          },
          {
           "column": "Category",
           "type": "column"
          }
         ],
         "selects": [
          {
           "column": "Category",
           "type": "column"
          },
          {
           "alias": "column_3f7fe7a519",
           "args": [
            {
             "column": "TotalInstalls",
             "type": "column"
            }
           ],
           "function": "SUM",
           "type": "function"
          },
          {
           "column": "Category",
           "type": "column"
          }
         ]
        }
       },
       "submitTime": 0,
       "subtype": "tableResultSubCmd.visualization",
       "tableResultIndex": 0,
       "tableResultSettingsMap": null,
       "useConsistentColors": false,
       "version": "CommandV1",
       "width": "auto",
       "workflows": [],
       "xColumns": null,
       "yColumns": null
      }
     },
     "output_type": "display_data"
    }
   ],
   "source": [
    "%sql\n",
    "SELECT\n",
    "  Category,\n",
    "  SUM(Installs) AS TotalInstalls\n",
    "FROM\n",
    "  GoogleData\n",
    "WHERE Category NOT IN (\"1.9\")\n",
    "GROUP BY 1\n",
    "ORDER BY 2 DESC"
   ]
  },
  {
   "cell_type": "code",
   "execution_count": 0,
   "metadata": {
    "application/vnd.databricks.v1+cell": {
     "cellMetadata": {
      "byteLimit": 2048000,
      "implicitDf": true,
      "rowLimit": 10000
     },
     "inputWidgets": {},
     "nuid": "4e0a3613-afb5-44a9-b377-1f6e1fd84725",
     "showTitle": true,
     "title": "Top 10 Paid Apps"
    }
   },
   "outputs": [
    {
     "output_type": "display_data",
     "data": {
      "text/html": [
       "<style scoped>\n",
       "  .table-result-container {\n",
       "    max-height: 300px;\n",
       "    overflow: auto;\n",
       "  }\n",
       "  table, th, td {\n",
       "    border: 1px solid black;\n",
       "    border-collapse: collapse;\n",
       "  }\n",
       "  th, td {\n",
       "    padding: 5px;\n",
       "  }\n",
       "  th {\n",
       "    text-align: left;\n",
       "  }\n",
       "</style><div class='table-result-container'><table class='table-result'><thead style='background-color: white'><tr><th>App</th><th>TotalPrice</th></tr></thead><tbody><tr><td>I'm Rich - Trump Edition</td><td>400.0</td></tr><tr><td>I'm Rich/Eu sou Rico/أنا غني/我很有錢</td><td>399.99</td></tr><tr><td>I Am Rich Pro</td><td>399.99</td></tr><tr><td>I Am Rich Premium</td><td>399.99</td></tr><tr><td>most expensive app (H)</td><td>399.99</td></tr><tr><td>I AM RICH PRO PLUS</td><td>399.99</td></tr><tr><td>I am Rich</td><td>399.99</td></tr><tr><td>I am Rich!</td><td>399.99</td></tr><tr><td>I am Rich Plus</td><td>399.99</td></tr><tr><td>I am rich(premium)</td><td>399.99</td></tr></tbody></table></div>"
      ]
     },
     "metadata": {
      "application/vnd.databricks.v1+output": {
       "addedWidgets": {},
       "aggData": [],
       "aggError": "",
       "aggOverflow": false,
       "aggSchema": [],
       "aggSeriesLimitReached": false,
       "aggType": "",
       "arguments": {},
       "columnCustomDisplayInfos": {},
       "data": [
        [
         "I'm Rich - Trump Edition",
         400.0
        ],
        [
         "I'm Rich/Eu sou Rico/أنا غني/我很有錢",
         399.99
        ],
        [
         "I Am Rich Pro",
         399.99
        ],
        [
         "I Am Rich Premium",
         399.99
        ],
        [
         "most expensive app (H)",
         399.99
        ],
        [
         "I AM RICH PRO PLUS",
         399.99
        ],
        [
         "I am Rich",
         399.99
        ],
        [
         "I am Rich!",
         399.99
        ],
        [
         "I am Rich Plus",
         399.99
        ],
        [
         "I am rich(premium)",
         399.99
        ]
       ],
       "datasetInfos": [],
       "dbfsResultPath": null,
       "isJsonSchema": true,
       "metadata": {
        "dataframeName": "_sqldf",
        "executionCount": 62
       },
       "overflow": false,
       "plotOptions": {
        "customPlotOptions": {},
        "displayType": "table",
        "pivotAggregation": null,
        "pivotColumns": null,
        "xColumns": null,
        "yColumns": null
       },
       "removedWidgets": [],
       "schema": [
        {
         "metadata": "{}",
         "name": "App",
         "type": "\"string\""
        },
        {
         "metadata": "{}",
         "name": "TotalPrice",
         "type": "\"double\""
        }
       ],
       "type": "table"
      }
     },
     "output_type": "display_data"
    }
   ],
   "source": [
    "%sql\n",
    "SELECT\n",
    "  App,\n",
    "  ROUND(SUM(Price),2) AS TotalPrice\n",
    "FROM\n",
    "  GoogleData\n",
    "WHERE Type = \"Paid\"\n",
    "GROUP BY 1\n",
    "ORDER BY 2 DESC\n",
    "LIMIT 10"
   ]
  }
 ],
 "metadata": {
  "application/vnd.databricks.v1+notebook": {
   "dashboards": [],
   "environmentMetadata": null,
   "language": "python",
   "notebookMetadata": {
    "mostRecentlyExecutedCommandWithImplicitDF": {
     "commandId": 282962457691090,
     "dataframes": [
      "_sqldf"
     ]
    },
    "pythonIndentUnit": 2
   },
   "notebookName": "PySpark_Project_01",
   "widgets": {}
  }
 },
 "nbformat": 4,
 "nbformat_minor": 0
}
